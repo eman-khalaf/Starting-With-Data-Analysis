{
 "cells": [
  {
   "cell_type": "markdown",
   "id": "6080f968",
   "metadata": {},
   "source": [
    "#### Classes and objects"
   ]
  },
  {
   "cell_type": "code",
   "execution_count": 1,
   "id": "d5a3b886",
   "metadata": {},
   "outputs": [],
   "source": [
    "import pandas as pd\n",
    "import numpy as np"
   ]
  },
  {
   "cell_type": "code",
   "execution_count": 9,
   "id": "663ae2af",
   "metadata": {},
   "outputs": [],
   "source": [
    "class BankAccount(object):\n",
    "    accounts = 0\n",
    "    def __init__(self, name, balance):\n",
    "        self.balance = balance\n",
    "        self.name = name\n",
    "        self.accounts+=1\n",
    "        print(\"Hello \" + str(name))\n",
    "        \n",
    "    def deposit(self):\n",
    "        amount = float(input(\"please, enter the amount to deposit: \"))\n",
    "        self.balance = self.balance + amount\n",
    "        print (\"your balance is \" + str(self.balance)) # %self.balance\n",
    "        \n",
    "    def withdraw(self):\n",
    "        w_amount = float(input(\"Enter the amount to withraw: \"))\n",
    "        if (self.balance >= w_amount):\n",
    "            self.balance = self.balance - w_amount\n",
    "            print (\"your balance now is: \" + str(self.balance))\n",
    "        else:\n",
    "            print (\"The amount exceeds your balance \")\n",
    "\n",
    "\n"
   ]
  },
  {
   "cell_type": "code",
   "execution_count": 10,
   "id": "69aa6e73",
   "metadata": {},
   "outputs": [
    {
     "name": "stdout",
     "output_type": "stream",
     "text": [
      "Hello Eman\n"
     ]
    }
   ],
   "source": [
    "B_account1= BankAccount(\"Eman\",2000)"
   ]
  },
  {
   "cell_type": "code",
   "execution_count": 11,
   "id": "4e13f4cb",
   "metadata": {},
   "outputs": [
    {
     "name": "stdout",
     "output_type": "stream",
     "text": [
      "please, enter the amount to deposit: 700\n",
      "your balance is 2700\n"
     ]
    }
   ],
   "source": [
    "B_account1.deposit()"
   ]
  },
  {
   "cell_type": "code",
   "execution_count": 12,
   "id": "54003758",
   "metadata": {},
   "outputs": [
    {
     "name": "stdout",
     "output_type": "stream",
     "text": [
      "Enter the amount to withraw: 200\n",
      "your balance now is: 2500\n"
     ]
    }
   ],
   "source": [
    "B_account1.withdraw()"
   ]
  },
  {
   "cell_type": "code",
   "execution_count": 13,
   "id": "56b48160",
   "metadata": {},
   "outputs": [],
   "source": [
    "class Accounts(object):\n",
    "    def __init__(self, name, balance = 0):\n",
    "        self.name = name\n",
    "        self.balance = balance\n",
    "        \n",
    "        \n",
    "account1 = Account(\"Sara\", 5000)"
   ]
  },
  {
   "cell_type": "code",
   "execution_count": 14,
   "id": "14c1b63c",
   "metadata": {},
   "outputs": [
    {
     "data": {
      "text/plain": [
       "5000"
      ]
     },
     "execution_count": 14,
     "metadata": {},
     "output_type": "execute_result"
    }
   ],
   "source": [
    "account1.balance"
   ]
  },
  {
   "cell_type": "code",
   "execution_count": 63,
   "id": "ce8b9b1f",
   "metadata": {},
   "outputs": [],
   "source": [
    "class Account(object):\n",
    "    \n",
    "    def __init__(self,name = \" \", balance = 0):#\n",
    "        self.name = name\n",
    "        self.balance = balance\n",
    "    def setName(self):\n",
    "        name = str(input(\"please, enter your name: \"))\n",
    "        self.name = name\n",
    "    def getName(self):\n",
    "        \n",
    "        return( \"welcome \"  + self.name) \n",
    "    \n",
    "    def deposit(self):\n",
    "        d_amount = float(input(\"Please, Enter the amount you want to deposit: \"))\n",
    "        self.balance += d_amount\n",
    "        return (\"Your balance is \" + str(self.balance) + \" now!\")\n",
    "    \n",
    "    def withdraw(self):\n",
    "        w_amount = float(input(\"Please, enter the amount to be withdrawed: \"))\n",
    "        if (self.balance >= w_amount):\n",
    "            self.balance = self.balance - w_amount\n",
    "            return(\"process is successfully done! your balance now is: \" + str(self.balance))\n",
    "        else:\n",
    "            return(\"process is declined, please contact us.\")\n",
    "\n",
    "    def getBalance(self):\n",
    "        return(\"Your Balance now is: \" + str(self.balance))\n",
    "        \n",
    "        \n",
    "        \n",
    "#account1 = Account(\"Sara\", 5000)"
   ]
  },
  {
   "cell_type": "code",
   "execution_count": 64,
   "id": "7acaf1df",
   "metadata": {},
   "outputs": [],
   "source": [
    "accountsara = Account()"
   ]
  },
  {
   "cell_type": "code",
   "execution_count": 65,
   "id": "e548f4fc",
   "metadata": {},
   "outputs": [
    {
     "name": "stdout",
     "output_type": "stream",
     "text": [
      "please, enter your name: Sara\n"
     ]
    }
   ],
   "source": [
    "accountsara.setName()"
   ]
  },
  {
   "cell_type": "code",
   "execution_count": 66,
   "id": "bfc4a923",
   "metadata": {},
   "outputs": [
    {
     "data": {
      "text/plain": [
       "'welcome Sara'"
      ]
     },
     "execution_count": 66,
     "metadata": {},
     "output_type": "execute_result"
    }
   ],
   "source": [
    "accountsara.getName()"
   ]
  },
  {
   "cell_type": "code",
   "execution_count": 67,
   "id": "69e62c1d",
   "metadata": {},
   "outputs": [
    {
     "name": "stdout",
     "output_type": "stream",
     "text": [
      "Please, Enter the amount you want to deposit: 5000\n"
     ]
    },
    {
     "data": {
      "text/plain": [
       "'Your balance is 5000.0 now!'"
      ]
     },
     "execution_count": 67,
     "metadata": {},
     "output_type": "execute_result"
    }
   ],
   "source": [
    "accountsara.deposit()"
   ]
  },
  {
   "cell_type": "code",
   "execution_count": 68,
   "id": "34ba0b80",
   "metadata": {},
   "outputs": [
    {
     "name": "stdout",
     "output_type": "stream",
     "text": [
      "Please, enter the amount to be withdrawed: 6000\n"
     ]
    },
    {
     "data": {
      "text/plain": [
       "'process is declined, please contact us.'"
      ]
     },
     "execution_count": 68,
     "metadata": {},
     "output_type": "execute_result"
    }
   ],
   "source": [
    "accountsara.withdraw()"
   ]
  },
  {
   "cell_type": "code",
   "execution_count": 69,
   "id": "018e0a28",
   "metadata": {},
   "outputs": [
    {
     "name": "stdout",
     "output_type": "stream",
     "text": [
      "Please, enter the amount to be withdrawed: 500\n"
     ]
    },
    {
     "data": {
      "text/plain": [
       "'process is successfully done! your balance now is: 4500.0'"
      ]
     },
     "execution_count": 69,
     "metadata": {},
     "output_type": "execute_result"
    }
   ],
   "source": [
    "accountsara.withdraw()"
   ]
  },
  {
   "cell_type": "code",
   "execution_count": 70,
   "id": "be8a894c",
   "metadata": {},
   "outputs": [
    {
     "data": {
      "text/plain": [
       "'Your Balance now is: 4500.0'"
      ]
     },
     "execution_count": 70,
     "metadata": {},
     "output_type": "execute_result"
    }
   ],
   "source": [
    "accountsara.getBalance()"
   ]
  },
  {
   "cell_type": "code",
   "execution_count": null,
   "id": "eb011588",
   "metadata": {},
   "outputs": [],
   "source": []
  }
 ],
 "metadata": {
  "kernelspec": {
   "display_name": "Python 3 (ipykernel)",
   "language": "python",
   "name": "python3"
  },
  "language_info": {
   "codemirror_mode": {
    "name": "ipython",
    "version": 3
   },
   "file_extension": ".py",
   "mimetype": "text/x-python",
   "name": "python",
   "nbconvert_exporter": "python",
   "pygments_lexer": "ipython3",
   "version": "3.9.12"
  }
 },
 "nbformat": 4,
 "nbformat_minor": 5
}
